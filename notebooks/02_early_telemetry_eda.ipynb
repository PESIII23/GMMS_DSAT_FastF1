{
 "cells": [
  {
   "cell_type": "code",
   "execution_count": 67,
   "id": "7a39a062",
   "metadata": {},
   "outputs": [],
   "source": [
    "import sys\n",
    "import os\n",
    "import logging\n",
    "\n",
    "# Add the root directory to sys.path\n",
    "root = os.path.abspath(\"..\")\n",
    "sys.path.append(root)\n",
    "\n",
    "# Suppress FastF1 info logs globally\n",
    "logging.getLogger('fastf1').setLevel(logging.WARNING)"
   ]
  },
  {
   "cell_type": "code",
   "execution_count": 68,
   "id": "33c3b78c",
   "metadata": {},
   "outputs": [],
   "source": [
    "import pandas as pd\n",
    "\n",
    "from src.data import f1data\n",
    "from src.utils import f1constants\n",
    "\n",
    "year = 2022\n",
    "gp = f1constants.F1Constants.LOCATIONS[\"Azerbaijan\"]\n",
    "session_type = f1constants.F1Constants.SESSIONS[\"Q\"]\n",
    "driver = \"VER\"\n",
    "\n",
    "# Call session object\n",
    "session = f1data.F1Session(year, gp, session_type)"
   ]
  }
 ],
 "metadata": {
  "kernelspec": {
   "display_name": "gmms_dsat_fastf1",
   "language": "python",
   "name": "python3"
  },
  "language_info": {
   "codemirror_mode": {
    "name": "ipython",
    "version": 3
   },
   "file_extension": ".py",
   "mimetype": "text/x-python",
   "name": "python",
   "nbconvert_exporter": "python",
   "pygments_lexer": "ipython3",
   "version": "3.13.5"
  }
 },
 "nbformat": 4,
 "nbformat_minor": 5
}
