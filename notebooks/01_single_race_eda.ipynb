{
 "cells": [
  {
   "cell_type": "markdown",
   "id": "752128ae",
   "metadata": {},
   "source": [
    "Single Race Exploratory Data Analysis -\n",
    "\n",
    "The purpose of this notebook is to explore and wrangle data from the Fast-F1 API for a single race. This serves as a starting point to establish a clean workflow for data acquisition, preparation, and early exploration before scaling to a multi-race analysis. I will focus on building a data dictionary, assessing data quality, generating descriptive statistics, and creating preliminary visualizations to understand the structure and sufficiency of the data. The outcome of this notebook will be a reproducible workflow for future feature engineering and multi-race EDA."
   ]
  },
  {
   "cell_type": "markdown",
   "id": "3e20a0c0",
   "metadata": {},
   "source": [
    "The code below adds the parent directory to Python’s module search path and configures logging to suppress all FastF1 logs below the warning level. This will enable subsequent code blocks that use imports to work seamlessly and keep my resulting code compilations clean and easy to read."
   ]
  },
  {
   "cell_type": "code",
   "execution_count": 37,
   "id": "706a7d6d",
   "metadata": {},
   "outputs": [],
   "source": [
    "import sys\n",
    "import os\n",
    "import logging\n",
    "\n",
    "# Add the root directory to sys.path\n",
    "root = os.path.abspath(\"..\")\n",
    "sys.path.append(root)\n",
    "\n",
    "# Suppress FastF1 info logs globally\n",
    "logging.getLogger('fastf1').setLevel(logging.WARNING)"
   ]
  },
  {
   "cell_type": "markdown",
   "id": "67fb729b",
   "metadata": {},
   "source": [
    "In this section, I import Python libraries for data visualization, numerical analysis, and working with Pandas dataframes that the FastF1 API is primarily structured with. I also import custom modules for accessing preprocessed F1 data and constants. To support full visibility into the datasets without truncation, I configure Pandas display options to show all rows and columns."
   ]
  },
  {
   "cell_type": "code",
   "execution_count": 38,
   "id": "33c3b78c",
   "metadata": {},
   "outputs": [],
   "source": [
    "from src.data import f1data\n",
    "from src.utils import f1constants\n",
    "\n",
    "from matplotlib.collections import LineCollection\n",
    "import matplotlib.pyplot as plt\n",
    "import pandas as pd\n",
    "import numpy as np\n",
    "\n",
    "# Set pandas display options\n",
    "pd.set_option('display.max_rows', None)  # show all rows\n",
    "pd.set_option('display.max_columns', None)  # show all columns\n"
   ]
  },
  {
   "cell_type": "markdown",
   "id": "b78f67a9",
   "metadata": {},
   "source": [
    "The following code initializes a single F1 race session by defining parameters such as year, location, and session type. These values are passed into the custom F1Session class (from f1data.py), which creates a session object built on top of FastF1. This object provides access to key race data as well as custom functions I’ve implemented.\n",
    "\n",
    "The session parameters were chosen to best match Tier 1 control qualities:\n",
    "\n",
    "- Weather: Abu Dhabi (dry conditions)\n",
    "- Max Speed: C5 Ultra Soft Tires\n",
    "- Minimize Outliers: Top 3 valid laps from Q3\n",
    "- Teammate Normalization: Cancels out car performance\n",
    "- Traffic: Remove tow laps to avoid slipstream bias"
   ]
  },
  {
   "cell_type": "code",
   "execution_count": null,
   "id": "087da416",
   "metadata": {},
   "outputs": [],
   "source": [
    "# Define session parameters\n",
    "year = 2024\n",
    "grand_prix = f1constants.F1Constants.LOCATIONS[\"Abu Dhabi\"]\n",
    "session_type = f1constants.F1Constants.SESSIONS[\"Q\"]\n",
    "\n",
    "# Call session object\n",
    "session = f1data.F1Session(year, grand_prix, session_type)"
   ]
  },
  {
   "cell_type": "markdown",
   "id": "b18ca600",
   "metadata": {},
   "source": [
    "The top three qualifying teams in which both drivers finished the session will be analyzed. Each driver will be assigned variables and identified by their three-letter code for further analysis."
   ]
  },
  {
   "cell_type": "code",
   "execution_count": null,
   "id": "d96e96e8",
   "metadata": {},
   "outputs": [],
   "source": [
    "# Drivers from the Top 3 Qualifying Teams (Both Finished)\n",
    "\n",
    "driverOne_teamOne = 'LEC'\n",
    "driverTwo_teamOne = 'LEC'\n",
    "\n",
    "driverOne_teamTwo = 'LEC'\n",
    "driverTwo_teamTwo = 'LEC'\n",
    "\n",
    "driverOne_teamThree = 'LEC' \n",
    "driverTwo_teamThree = 'LEC'"
   ]
  },
  {
   "cell_type": "code",
   "execution_count": null,
   "id": "ff591efe",
   "metadata": {},
   "outputs": [],
   "source": [
    "# Return third qualifying session telemetry data for driverOne_teamOne\n",
    "q1, q2, q3 = session.get_laps(driverOne_teamOne).split_qualifying_sessions()\n",
    "\n",
    "q3"
   ]
  },
  {
   "cell_type": "code",
   "execution_count": null,
   "id": "80e2ab9e",
   "metadata": {},
   "outputs": [],
   "source": [
    "# Return third qualifying session telemetry data for driverTwo_teamOne\n",
    "q1, q2, q3 = session.get_laps(driverTwo_teamOne).split_qualifying_sessions()\n",
    "\n",
    "q3"
   ]
  },
  {
   "cell_type": "code",
   "execution_count": null,
   "id": "a97aaa65",
   "metadata": {},
   "outputs": [],
   "source": [
    "# Return third qualifying session telemetry data for driverTwo_teamOne\n",
    "q1, q2, q3 = session.get_laps(driverOne_teamTwo).split_qualifying_sessions()\n",
    "\n",
    "q3"
   ]
  },
  {
   "cell_type": "code",
   "execution_count": null,
   "id": "2dece56f",
   "metadata": {},
   "outputs": [],
   "source": [
    "# Return third qualifying session telemetry data for driverTwo_teamOne\n",
    "q1, q2, q3 = session.get_laps(driverTwo_teamTwo).split_qualifying_sessions()\n",
    "\n",
    "q3"
   ]
  },
  {
   "cell_type": "code",
   "execution_count": null,
   "id": "42e9f037",
   "metadata": {},
   "outputs": [],
   "source": [
    "# Return third qualifying session telemetry data for driverTwo_teamOne\n",
    "q1, q2, q3 = session.get_laps(driverOne_teamThree).split_qualifying_sessions()\n",
    "\n",
    "q3"
   ]
  },
  {
   "cell_type": "code",
   "execution_count": null,
   "id": "4cb92159",
   "metadata": {},
   "outputs": [],
   "source": [
    "# Return third qualifying session telemetry data for driverOne_teamOne\n",
    "q1, q2, q3 = session.get_laps(driverTwo_teamThree).split_qualifying_sessions()\n",
    "\n",
    "q3"
   ]
  },
  {
   "cell_type": "code",
   "execution_count": null,
   "id": "76a90783",
   "metadata": {},
   "outputs": [],
   "source": [
    "# Get the fastest lap for the specified driver\n",
    "fastest_lap = session.get_fastest_lap()\n",
    "\n",
    "# default scrollable display of dataframe\n",
    "# fastest_lap"
   ]
  },
  {
   "cell_type": "code",
   "execution_count": 9,
   "id": "fdb8ecf1",
   "metadata": {},
   "outputs": [],
   "source": [
    "# Retrieve telemetry data for the fastest lap\n",
    "telemetry_of_fastest = session.get_telemetry(fastest_lap)\n",
    "\n",
    "# telemetry_of_fastest"
   ]
  },
  {
   "cell_type": "code",
   "execution_count": 10,
   "id": "335ac00d",
   "metadata": {},
   "outputs": [],
   "source": [
    "# Retrieve car data for the specified driver's fastest lap\n",
    "car_data = fastest_lap.get_car_data()\n",
    "\n",
    "# car_data"
   ]
  }
 ],
 "metadata": {
  "kernelspec": {
   "display_name": "gmms_dsat_fastf1",
   "language": "python",
   "name": "python3"
  },
  "language_info": {
   "codemirror_mode": {
    "name": "ipython",
    "version": 3
   },
   "file_extension": ".py",
   "mimetype": "text/x-python",
   "name": "python",
   "nbconvert_exporter": "python",
   "pygments_lexer": "ipython3",
   "version": "3.13.5"
  }
 },
 "nbformat": 4,
 "nbformat_minor": 5
}
