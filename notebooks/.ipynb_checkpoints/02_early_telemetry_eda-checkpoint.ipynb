{
 "cells": [
  {
   "cell_type": "code",
   "execution_count": null,
   "id": "e9f1ed3a",
   "metadata": {},
   "outputs": [],
   "source": [
    "from src.data.fastf1_client import FastF1Client\n",
    "\n",
    "# Initialize client\n",
    "client = FastF1Client(2023, \"Monaco\", \"R\")\n",
    "client.load_session()\n",
    "\n",
    "# Drivers\n",
    "drivers = client.get_drivers()\n",
    "print(drivers)\n",
    "\n",
    "# All laps\n",
    "laps = client.get_laps()\n",
    "laps.head()\n",
    "\n",
    "# Single lap\n",
    "lap_12 = client.get_lap(\"VER\", 12)\n",
    "print(lap_12['LapTime'])\n",
    "\n",
    "# Telemetry for fastest lap\n",
    "telemetry = client.get_telemetry(\"VER\")\n",
    "telemetry.head()\n",
    "\n",
    "# Circuit information\n",
    "circuit_info = client.get_circuit_info()\n",
    "print(circuit_info)\n",
    "\n",
    "# Results\n",
    "results = client.get_results()\n",
    "results.head()\n"
   ]
  }
 ],
 "metadata": {
  "language_info": {
   "name": "python"
  }
 },
 "nbformat": 4,
 "nbformat_minor": 5
}
